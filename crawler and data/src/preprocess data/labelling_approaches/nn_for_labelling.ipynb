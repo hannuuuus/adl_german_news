{
 "cells": [
  {
   "cell_type": "code",
   "execution_count": 103,
   "metadata": {},
   "outputs": [],
   "source": [
    "import numpy as np\n",
    "import pandas as pd\n",
    "import matplotlib.pyplot as plt\n",
    "import seaborn as sns\n",
    "from sklearn.model_selection import train_test_split\n",
    "from sklearn.feature_extraction.text import TfidfVectorizer\n",
    "import pandas as pd\n",
    "from sklearn.feature_extraction.text import TfidfVectorizer\n",
    "from sklearn.model_selection import train_test_split\n",
    "from sklearn.multioutput import MultiOutputClassifier\n",
    "from sklearn.ensemble import RandomForestClassifier\n",
    "from sklearn.metrics import classification_report\n",
    "from imblearn.over_sampling import SMOTE\n",
    "import numpy as np\n",
    "import numpy as np\n",
    "from sklearn.feature_extraction.text import TfidfVectorizer\n",
    "from sklearn.model_selection import train_test_split\n",
    "from sklearn.multioutput import MultiOutputClassifier\n",
    "from sklearn.ensemble import RandomForestClassifier\n",
    "from sklearn.datasets import make_classification\n",
    "from sklearn.metrics import classification_report\n",
    "from imblearn.over_sampling import RandomOverSampler\n",
    "from imblearn.under_sampling import RandomUnderSampler\n",
    "from imblearn.pipeline import Pipeline\n",
    "import scipy.sparse as sp\n",
    "from collections import Counter\n",
    "import os"
   ]
  },
  {
   "cell_type": "code",
   "execution_count": 104,
   "metadata": {},
   "outputs": [],
   "source": [
    "def merge_csv_files(folder_path):\n",
    "    all_files = [os.path.join(folder_path, f) for f in os.listdir(folder_path) if f.endswith('.csv')]\n",
    "    dataframes = [pd.read_csv(file) for file in all_files]\n",
    "    merged_df = pd.concat(dataframes, ignore_index=True)\n",
    "    return merged_df"
   ]
  },
  {
   "cell_type": "code",
   "execution_count": 105,
   "metadata": {},
   "outputs": [],
   "source": [
    "labelled_folder = r\"C:\\github\\news\\news\\german-news\\preprocess data\\data_ready_for_analysis\\labelled\""
   ]
  },
  {
   "cell_type": "code",
   "execution_count": 106,
   "metadata": {},
   "outputs": [],
   "source": [
    "labelled_data = merge_csv_files(labelled_folder)"
   ]
  },
  {
   "cell_type": "code",
   "execution_count": 107,
   "metadata": {},
   "outputs": [
    {
     "data": {
      "text/html": [
       "<div>\n",
       "<style scoped>\n",
       "    .dataframe tbody tr th:only-of-type {\n",
       "        vertical-align: middle;\n",
       "    }\n",
       "\n",
       "    .dataframe tbody tr th {\n",
       "        vertical-align: top;\n",
       "    }\n",
       "\n",
       "    .dataframe thead th {\n",
       "        text-align: right;\n",
       "    }\n",
       "</style>\n",
       "<table border=\"1\" class=\"dataframe\">\n",
       "  <thead>\n",
       "    <tr style=\"text-align: right;\">\n",
       "      <th></th>\n",
       "      <th>news_outlet</th>\n",
       "      <th>provenance</th>\n",
       "      <th>query_keywords</th>\n",
       "      <th>creation_date</th>\n",
       "      <th>last_modified</th>\n",
       "      <th>crawl_date</th>\n",
       "      <th>author_person</th>\n",
       "      <th>author_organization</th>\n",
       "      <th>news_keywords</th>\n",
       "      <th>title</th>\n",
       "      <th>description</th>\n",
       "      <th>body</th>\n",
       "      <th>Fake News</th>\n",
       "      <th>Extreme bias</th>\n",
       "      <th>clickbait</th>\n",
       "      <th>credible</th>\n",
       "      <th>body_len</th>\n",
       "      <th>has_label</th>\n",
       "      <th>label</th>\n",
       "    </tr>\n",
       "  </thead>\n",
       "  <tbody>\n",
       "    <tr>\n",
       "      <th>0</th>\n",
       "      <td>bild</td>\n",
       "      <td>https://www.bild.de/politik/ausland/politik-au...</td>\n",
       "      <td>linke, migration, csu, cdu</td>\n",
       "      <td>2022-06-15</td>\n",
       "      <td>2022-06-15</td>\n",
       "      <td>2024-10-20</td>\n",
       "      <td>Filipp Piatov und Ralf Schuler</td>\n",
       "      <td>NaN</td>\n",
       "      <td>NaN</td>\n",
       "      <td>Sie verspottete Deutsche als Kartoffeln: Aktiv...</td>\n",
       "      <td>Schon wieder sorgt eine Personalentscheidung d...</td>\n",
       "      <td>Schon wieder sorgt eine Personalentscheidung d...</td>\n",
       "      <td>1.0</td>\n",
       "      <td>1.0</td>\n",
       "      <td>1.0</td>\n",
       "      <td>0.0</td>\n",
       "      <td>3574.0</td>\n",
       "      <td>True</td>\n",
       "      <td>[1, 1, 1, 0]</td>\n",
       "    </tr>\n",
       "    <tr>\n",
       "      <th>1</th>\n",
       "      <td>bild</td>\n",
       "      <td>https://www.bild.de/politik/ausland/politik-au...</td>\n",
       "      <td>israel</td>\n",
       "      <td>2023-11-10</td>\n",
       "      <td>2023-11-10</td>\n",
       "      <td>2024-10-20</td>\n",
       "      <td>P. Tiede, A. Link und H.-J. Vehlewald</td>\n",
       "      <td>NaN</td>\n",
       "      <td>NaN</td>\n",
       "      <td>Reporter als Terror-Helfer: Die perfide Propag...</td>\n",
       "      <td>Es ist der 7. Oktober 2023. Der Tag, der alles...</td>\n",
       "      <td>Es ist der 7. Oktober 2023. Der Tag, der alles...</td>\n",
       "      <td>1.0</td>\n",
       "      <td>1.0</td>\n",
       "      <td>0.0</td>\n",
       "      <td>0.0</td>\n",
       "      <td>5226.0</td>\n",
       "      <td>True</td>\n",
       "      <td>[1, 1, 0, 0]</td>\n",
       "    </tr>\n",
       "    <tr>\n",
       "      <th>2</th>\n",
       "      <td>bild</td>\n",
       "      <td>https://www.bild.de/politik/inland/politik-inl...</td>\n",
       "      <td>fdp, csu, spd, cdu, afd, annalena baerbock, ch...</td>\n",
       "      <td>2023-06-19</td>\n",
       "      <td>2023-06-19</td>\n",
       "      <td>2024-10-20</td>\n",
       "      <td>Filipp Piatov</td>\n",
       "      <td>NaN</td>\n",
       "      <td>CDU, CSU, die Gruenen, SPD, Wuest Hendrik, Mer...</td>\n",
       "      <td>Streit in der CDU: Umfrage-Schlacht zwischen M...</td>\n",
       "      <td>In der CDU liegen die Nerven blank! Es tobt ei...</td>\n",
       "      <td>In der CDU liegen die Nerven blank! Spaetesten...</td>\n",
       "      <td>0.0</td>\n",
       "      <td>1.0</td>\n",
       "      <td>0.0</td>\n",
       "      <td>0.0</td>\n",
       "      <td>3071.0</td>\n",
       "      <td>True</td>\n",
       "      <td>[0, 1, 0, 0]</td>\n",
       "    </tr>\n",
       "    <tr>\n",
       "      <th>3</th>\n",
       "      <td>bild</td>\n",
       "      <td>https://www.bild.de/politik/ausland/politik-au...</td>\n",
       "      <td>israel, spd, olaf scholz</td>\n",
       "      <td>2023-10-30</td>\n",
       "      <td>2023-10-30</td>\n",
       "      <td>2024-10-20</td>\n",
       "      <td>NaN</td>\n",
       "      <td>BILD</td>\n",
       "      <td>Gaza-Streifen, Gaza, Israel, Hamas, Nahost-Kon...</td>\n",
       "      <td>Shani Louk ermordet  Scholz: Zeigt die ganze B...</td>\n",
       "      <td>Shani Louk wurde barbarisch ermordet. Das best...</td>\n",
       "      <td>Es ist das pure Grauen. Am 7. Oktober verschle...</td>\n",
       "      <td>0.0</td>\n",
       "      <td>0.0</td>\n",
       "      <td>0.0</td>\n",
       "      <td>1.0</td>\n",
       "      <td>2655.0</td>\n",
       "      <td>True</td>\n",
       "      <td>[0, 0, 0, 1]</td>\n",
       "    </tr>\n",
       "    <tr>\n",
       "      <th>4</th>\n",
       "      <td>bild</td>\n",
       "      <td>https://www.bild.de/regional/leipzig/leipzig-n...</td>\n",
       "      <td>abschiebung, migration, cdu</td>\n",
       "      <td>2023-11-09</td>\n",
       "      <td>2023-11-09</td>\n",
       "      <td>2024-10-20</td>\n",
       "      <td>KARL KEIM</td>\n",
       "      <td>NaN</td>\n",
       "      <td>Tunesien, Georgien, Sachsen, asylrecht, Schust...</td>\n",
       "      <td>Sachsen: Nur jede dritte Abschiebung findet wi...</td>\n",
       "      <td>In Sachsen klappt nur jede dritte Abschiebung....</td>\n",
       "      <td>Leipzig  In Sachsen wurden bisher in diesem Ja...</td>\n",
       "      <td>0.0</td>\n",
       "      <td>0.0</td>\n",
       "      <td>0.0</td>\n",
       "      <td>1.0</td>\n",
       "      <td>2447.0</td>\n",
       "      <td>True</td>\n",
       "      <td>[0, 0, 0, 1]</td>\n",
       "    </tr>\n",
       "    <tr>\n",
       "      <th>...</th>\n",
       "      <td>...</td>\n",
       "      <td>...</td>\n",
       "      <td>...</td>\n",
       "      <td>...</td>\n",
       "      <td>...</td>\n",
       "      <td>...</td>\n",
       "      <td>...</td>\n",
       "      <td>...</td>\n",
       "      <td>...</td>\n",
       "      <td>...</td>\n",
       "      <td>...</td>\n",
       "      <td>...</td>\n",
       "      <td>...</td>\n",
       "      <td>...</td>\n",
       "      <td>...</td>\n",
       "      <td>...</td>\n",
       "      <td>...</td>\n",
       "      <td>...</td>\n",
       "      <td>...</td>\n",
       "    </tr>\n",
       "    <tr>\n",
       "      <th>310</th>\n",
       "      <td>welt</td>\n",
       "      <td>https://www.welt.de/politik/ausland/article242...</td>\n",
       "      <td>krieg, christ, ss, sp, ukraine, ns, spo, nazi,...</td>\n",
       "      <td>2022-12-12</td>\n",
       "      <td>2022-12-12</td>\n",
       "      <td>2024-10-20</td>\n",
       "      <td>NaN</td>\n",
       "      <td>NaN</td>\n",
       "      <td>Newsteam, Russland-Ukraine-Krieg (24.2.2022), ...</td>\n",
       "      <td>Ukraine-News ++ Ukraines Verteidigungsminister...</td>\n",
       "      <td>Laut dem ukrainischen Verteidigungsminister bi...</td>\n",
       "      <td>Laut dem ukrainischen Verteidigungsminister bi...</td>\n",
       "      <td>0.0</td>\n",
       "      <td>0.0</td>\n",
       "      <td>0.0</td>\n",
       "      <td>1.0</td>\n",
       "      <td>21564.0</td>\n",
       "      <td>True</td>\n",
       "      <td>[0, 0, 0, 1]</td>\n",
       "    </tr>\n",
       "    <tr>\n",
       "      <th>311</th>\n",
       "      <td>welt</td>\n",
       "      <td>https://www.welt.de/politik/deutschland/articl...</td>\n",
       "      <td>sp, terror, ns, spd, schi, rechtsextremismus, ss</td>\n",
       "      <td>2022-12-13</td>\n",
       "      <td>2022-12-13</td>\n",
       "      <td>2024-10-20</td>\n",
       "      <td>NaN</td>\n",
       "      <td>NaN</td>\n",
       "      <td>Newsteam, Wehrbeauftragte, Hoegl, Eva, Reichsb...</td>\n",
       "      <td>Wehrbeauftragte fordert haerteres Vorgehen geg...</td>\n",
       "      <td>Nach der Razzia gegen ein mutmassliches Terror...</td>\n",
       "      <td>Nach der Razzia gegen ein mutmassliches Terror...</td>\n",
       "      <td>0.0</td>\n",
       "      <td>0.0</td>\n",
       "      <td>0.0</td>\n",
       "      <td>1.0</td>\n",
       "      <td>972.0</td>\n",
       "      <td>True</td>\n",
       "      <td>[0, 0, 0, 1]</td>\n",
       "    </tr>\n",
       "    <tr>\n",
       "      <th>312</th>\n",
       "      <td>welt</td>\n",
       "      <td>https://www.welt.de/politik/ausland/article242...</td>\n",
       "      <td>krieg, sp, ukraine, ns, spd, rki, schi, ss, rn...</td>\n",
       "      <td>2022-12-10</td>\n",
       "      <td>2022-12-10</td>\n",
       "      <td>2024-10-20</td>\n",
       "      <td>NaN</td>\n",
       "      <td>NaN</td>\n",
       "      <td>Newsteam, Leopard 2, Russland-Ukraine-Krieg (2...</td>\n",
       "      <td>Leopard 2: USA fuer Lieferung deutscher Kampfp...</td>\n",
       "      <td>Kanzler Scholz will moderne westliche Kampfpan...</td>\n",
       "      <td>Kanzler Scholz will moderne westliche Kampfpan...</td>\n",
       "      <td>0.0</td>\n",
       "      <td>0.0</td>\n",
       "      <td>0.0</td>\n",
       "      <td>1.0</td>\n",
       "      <td>2616.0</td>\n",
       "      <td>True</td>\n",
       "      <td>[0, 0, 0, 1]</td>\n",
       "    </tr>\n",
       "    <tr>\n",
       "      <th>313</th>\n",
       "      <td>welt</td>\n",
       "      <td>https://www.welt.de/politik/deutschland/articl...</td>\n",
       "      <td>terror, ss, ns</td>\n",
       "      <td>2022-12-13</td>\n",
       "      <td>2022-12-13</td>\n",
       "      <td>2024-10-20</td>\n",
       "      <td>NaN</td>\n",
       "      <td>NaN</td>\n",
       "      <td>Schindler-Frederik, Bundestag WELT, AfD, Razzi...</td>\n",
       "      <td>Reichsbuerger-Razzia: Ermittler finden 93 Waff...</td>\n",
       "      <td>Bei der bundesweiten Razzia gegen eine Reichsb...</td>\n",
       "      <td>Bei der bundesweiten Razzia gegen eine Reichsb...</td>\n",
       "      <td>0.0</td>\n",
       "      <td>0.0</td>\n",
       "      <td>0.0</td>\n",
       "      <td>1.0</td>\n",
       "      <td>1464.0</td>\n",
       "      <td>True</td>\n",
       "      <td>[0, 0, 0, 1]</td>\n",
       "    </tr>\n",
       "    <tr>\n",
       "      <th>314</th>\n",
       "      <td>welt</td>\n",
       "      <td>https://www.welt.de/politik/ausland/article242...</td>\n",
       "      <td>krieg, christ, klima, cdu, sp, terror, ukraine...</td>\n",
       "      <td>2022-12-07</td>\n",
       "      <td>2022-12-08</td>\n",
       "      <td>2024-10-20</td>\n",
       "      <td>NaN</td>\n",
       "      <td>NaN</td>\n",
       "      <td>Newsteam, Selenskyj, Wolodymyr, Putin, Wladimi...</td>\n",
       "      <td>Ukraine-News ++ Kiew darf sich laut Bundesregi...</td>\n",
       "      <td>Nach Ansicht der Bundesregierung darf Kiew bei...</td>\n",
       "      <td>Nach Ansicht der Bundesregierung darf Kiew bei...</td>\n",
       "      <td>0.0</td>\n",
       "      <td>0.0</td>\n",
       "      <td>0.0</td>\n",
       "      <td>1.0</td>\n",
       "      <td>24094.0</td>\n",
       "      <td>True</td>\n",
       "      <td>[0, 0, 0, 1]</td>\n",
       "    </tr>\n",
       "  </tbody>\n",
       "</table>\n",
       "<p>315 rows × 19 columns</p>\n",
       "</div>"
      ],
      "text/plain": [
       "    news_outlet                                         provenance  \\\n",
       "0          bild  https://www.bild.de/politik/ausland/politik-au...   \n",
       "1          bild  https://www.bild.de/politik/ausland/politik-au...   \n",
       "2          bild  https://www.bild.de/politik/inland/politik-inl...   \n",
       "3          bild  https://www.bild.de/politik/ausland/politik-au...   \n",
       "4          bild  https://www.bild.de/regional/leipzig/leipzig-n...   \n",
       "..          ...                                                ...   \n",
       "310        welt  https://www.welt.de/politik/ausland/article242...   \n",
       "311        welt  https://www.welt.de/politik/deutschland/articl...   \n",
       "312        welt  https://www.welt.de/politik/ausland/article242...   \n",
       "313        welt  https://www.welt.de/politik/deutschland/articl...   \n",
       "314        welt  https://www.welt.de/politik/ausland/article242...   \n",
       "\n",
       "                                        query_keywords creation_date  \\\n",
       "0                           linke, migration, csu, cdu    2022-06-15   \n",
       "1                                               israel    2023-11-10   \n",
       "2    fdp, csu, spd, cdu, afd, annalena baerbock, ch...    2023-06-19   \n",
       "3                             israel, spd, olaf scholz    2023-10-30   \n",
       "4                          abschiebung, migration, cdu    2023-11-09   \n",
       "..                                                 ...           ...   \n",
       "310  krieg, christ, ss, sp, ukraine, ns, spo, nazi,...    2022-12-12   \n",
       "311   sp, terror, ns, spd, schi, rechtsextremismus, ss    2022-12-13   \n",
       "312  krieg, sp, ukraine, ns, spd, rki, schi, ss, rn...    2022-12-10   \n",
       "313                                     terror, ss, ns    2022-12-13   \n",
       "314  krieg, christ, klima, cdu, sp, terror, ukraine...    2022-12-07   \n",
       "\n",
       "    last_modified  crawl_date                          author_person  \\\n",
       "0      2022-06-15  2024-10-20         Filipp Piatov und Ralf Schuler   \n",
       "1      2023-11-10  2024-10-20  P. Tiede, A. Link und H.-J. Vehlewald   \n",
       "2      2023-06-19  2024-10-20                          Filipp Piatov   \n",
       "3      2023-10-30  2024-10-20                                    NaN   \n",
       "4      2023-11-09  2024-10-20                              KARL KEIM   \n",
       "..            ...         ...                                    ...   \n",
       "310    2022-12-12  2024-10-20                                    NaN   \n",
       "311    2022-12-13  2024-10-20                                    NaN   \n",
       "312    2022-12-10  2024-10-20                                    NaN   \n",
       "313    2022-12-13  2024-10-20                                    NaN   \n",
       "314    2022-12-08  2024-10-20                                    NaN   \n",
       "\n",
       "    author_organization                                      news_keywords  \\\n",
       "0                   NaN                                                NaN   \n",
       "1                   NaN                                                NaN   \n",
       "2                   NaN  CDU, CSU, die Gruenen, SPD, Wuest Hendrik, Mer...   \n",
       "3                  BILD  Gaza-Streifen, Gaza, Israel, Hamas, Nahost-Kon...   \n",
       "4                   NaN  Tunesien, Georgien, Sachsen, asylrecht, Schust...   \n",
       "..                  ...                                                ...   \n",
       "310                 NaN  Newsteam, Russland-Ukraine-Krieg (24.2.2022), ...   \n",
       "311                 NaN  Newsteam, Wehrbeauftragte, Hoegl, Eva, Reichsb...   \n",
       "312                 NaN  Newsteam, Leopard 2, Russland-Ukraine-Krieg (2...   \n",
       "313                 NaN  Schindler-Frederik, Bundestag WELT, AfD, Razzi...   \n",
       "314                 NaN  Newsteam, Selenskyj, Wolodymyr, Putin, Wladimi...   \n",
       "\n",
       "                                                 title  \\\n",
       "0    Sie verspottete Deutsche als Kartoffeln: Aktiv...   \n",
       "1    Reporter als Terror-Helfer: Die perfide Propag...   \n",
       "2    Streit in der CDU: Umfrage-Schlacht zwischen M...   \n",
       "3    Shani Louk ermordet  Scholz: Zeigt die ganze B...   \n",
       "4    Sachsen: Nur jede dritte Abschiebung findet wi...   \n",
       "..                                                 ...   \n",
       "310  Ukraine-News ++ Ukraines Verteidigungsminister...   \n",
       "311  Wehrbeauftragte fordert haerteres Vorgehen geg...   \n",
       "312  Leopard 2: USA fuer Lieferung deutscher Kampfp...   \n",
       "313  Reichsbuerger-Razzia: Ermittler finden 93 Waff...   \n",
       "314  Ukraine-News ++ Kiew darf sich laut Bundesregi...   \n",
       "\n",
       "                                           description  \\\n",
       "0    Schon wieder sorgt eine Personalentscheidung d...   \n",
       "1    Es ist der 7. Oktober 2023. Der Tag, der alles...   \n",
       "2    In der CDU liegen die Nerven blank! Es tobt ei...   \n",
       "3    Shani Louk wurde barbarisch ermordet. Das best...   \n",
       "4    In Sachsen klappt nur jede dritte Abschiebung....   \n",
       "..                                                 ...   \n",
       "310  Laut dem ukrainischen Verteidigungsminister bi...   \n",
       "311  Nach der Razzia gegen ein mutmassliches Terror...   \n",
       "312  Kanzler Scholz will moderne westliche Kampfpan...   \n",
       "313  Bei der bundesweiten Razzia gegen eine Reichsb...   \n",
       "314  Nach Ansicht der Bundesregierung darf Kiew bei...   \n",
       "\n",
       "                                                  body  Fake News  \\\n",
       "0    Schon wieder sorgt eine Personalentscheidung d...        1.0   \n",
       "1    Es ist der 7. Oktober 2023. Der Tag, der alles...        1.0   \n",
       "2    In der CDU liegen die Nerven blank! Spaetesten...        0.0   \n",
       "3    Es ist das pure Grauen. Am 7. Oktober verschle...        0.0   \n",
       "4    Leipzig  In Sachsen wurden bisher in diesem Ja...        0.0   \n",
       "..                                                 ...        ...   \n",
       "310  Laut dem ukrainischen Verteidigungsminister bi...        0.0   \n",
       "311  Nach der Razzia gegen ein mutmassliches Terror...        0.0   \n",
       "312  Kanzler Scholz will moderne westliche Kampfpan...        0.0   \n",
       "313  Bei der bundesweiten Razzia gegen eine Reichsb...        0.0   \n",
       "314  Nach Ansicht der Bundesregierung darf Kiew bei...        0.0   \n",
       "\n",
       "     Extreme bias  clickbait  credible  body_len  has_label         label  \n",
       "0             1.0        1.0       0.0    3574.0       True  [1, 1, 1, 0]  \n",
       "1             1.0        0.0       0.0    5226.0       True  [1, 1, 0, 0]  \n",
       "2             1.0        0.0       0.0    3071.0       True  [0, 1, 0, 0]  \n",
       "3             0.0        0.0       1.0    2655.0       True  [0, 0, 0, 1]  \n",
       "4             0.0        0.0       1.0    2447.0       True  [0, 0, 0, 1]  \n",
       "..            ...        ...       ...       ...        ...           ...  \n",
       "310           0.0        0.0       1.0   21564.0       True  [0, 0, 0, 1]  \n",
       "311           0.0        0.0       1.0     972.0       True  [0, 0, 0, 1]  \n",
       "312           0.0        0.0       1.0    2616.0       True  [0, 0, 0, 1]  \n",
       "313           0.0        0.0       1.0    1464.0       True  [0, 0, 0, 1]  \n",
       "314           0.0        0.0       1.0   24094.0       True  [0, 0, 0, 1]  \n",
       "\n",
       "[315 rows x 19 columns]"
      ]
     },
     "execution_count": 107,
     "metadata": {},
     "output_type": "execute_result"
    }
   ],
   "source": [
    "labelled_data"
   ]
  },
  {
   "cell_type": "code",
   "execution_count": 108,
   "metadata": {},
   "outputs": [],
   "source": [
    "validation_data = labelled_data.sample(n=25, random_state=42)\n",
    "remaining_data = labelled_data.drop(validation_data.index)"
   ]
  },
  {
   "cell_type": "code",
   "execution_count": 109,
   "metadata": {},
   "outputs": [
    {
     "data": {
      "text/plain": [
       "Fake News        2.0\n",
       "Extreme bias     7.0\n",
       "clickbait        9.0\n",
       "credible        19.0\n",
       "dtype: float64"
      ]
     },
     "execution_count": 109,
     "metadata": {},
     "output_type": "execute_result"
    }
   ],
   "source": [
    "labels = ['Fake News', 'Extreme bias', 'clickbait', 'credible']\n",
    "validation_data[labels].sum()"
   ]
  },
  {
   "cell_type": "code",
   "execution_count": 110,
   "metadata": {},
   "outputs": [
    {
     "data": {
      "text/plain": [
       "Fake News        56.0\n",
       "Extreme bias     75.0\n",
       "clickbait        83.0\n",
       "credible        211.0\n",
       "dtype: float64"
      ]
     },
     "execution_count": 110,
     "metadata": {},
     "output_type": "execute_result"
    }
   ],
   "source": [
    "labels = ['Fake News', 'Extreme bias', 'clickbait', 'credible']\n",
    "remaining_data[labels].sum()"
   ]
  },
  {
   "cell_type": "code",
   "execution_count": 111,
   "metadata": {},
   "outputs": [],
   "source": [
    "unlabelled_folder = r\"C:\\github\\news\\news\\german-news\\preprocess data\\data_ready_for_analysis\\unlabelled\""
   ]
  },
  {
   "cell_type": "code",
   "execution_count": 112,
   "metadata": {},
   "outputs": [],
   "source": [
    "unlabelled_data = merge_csv_files(unlabelled_folder)"
   ]
  },
  {
   "cell_type": "code",
   "execution_count": 113,
   "metadata": {},
   "outputs": [],
   "source": [
    "X = remaining_data[['title', 'description', 'body']].apply(lambda row: ' '.join(row.values.astype(str)), axis=1)\n",
    "y = remaining_data[['Fake News', 'Extreme bias', 'clickbait', 'credible']]\n",
    "X_train, X_test, y_train, y_test = train_test_split(X, y, test_size=0.2, random_state=42)\n"
   ]
  },
  {
   "cell_type": "code",
   "execution_count": 114,
   "metadata": {},
   "outputs": [
    {
     "data": {
      "text/plain": [
       "0    Sie verspottete Deutsche als Kartoffeln: Aktiv...\n",
       "1    Reporter als Terror-Helfer: Die perfide Propag...\n",
       "2    Streit in der CDU: Umfrage-Schlacht zwischen M...\n",
       "3    Shani Louk ermordet  Scholz: Zeigt die ganze B...\n",
       "4    Sachsen: Nur jede dritte Abschiebung findet wi...\n",
       "dtype: object"
      ]
     },
     "execution_count": 114,
     "metadata": {},
     "output_type": "execute_result"
    }
   ],
   "source": [
    "X.head()"
   ]
  },
  {
   "cell_type": "code",
   "execution_count": 115,
   "metadata": {},
   "outputs": [
    {
     "data": {
      "text/plain": [
       "Fake News        46.0\n",
       "Extreme bias     63.0\n",
       "clickbait        64.0\n",
       "credible        166.0\n",
       "dtype: float64"
      ]
     },
     "execution_count": 115,
     "metadata": {},
     "output_type": "execute_result"
    }
   ],
   "source": [
    "y_train[labels].sum()"
   ]
  },
  {
   "cell_type": "code",
   "execution_count": 116,
   "metadata": {},
   "outputs": [
    {
     "data": {
      "text/plain": [
       "Fake News       10.0\n",
       "Extreme bias    12.0\n",
       "clickbait       19.0\n",
       "credible        45.0\n",
       "dtype: float64"
      ]
     },
     "execution_count": 116,
     "metadata": {},
     "output_type": "execute_result"
    }
   ],
   "source": [
    "y_test[labels].sum()"
   ]
  },
  {
   "cell_type": "code",
   "execution_count": null,
   "metadata": {},
   "outputs": [],
   "source": [
    "vectorizer = TfidfVectorizer(max_features=3000) #must be same as val features\n",
    "X_train_tfidf = vectorizer.fit_transform(X_train)\n",
    "X_test_tfidf = vectorizer.transform(X_test)"
   ]
  },
  {
   "cell_type": "code",
   "execution_count": 129,
   "metadata": {},
   "outputs": [
    {
     "data": {
      "text/plain": [
       "(232, 3000)"
      ]
     },
     "execution_count": 129,
     "metadata": {},
     "output_type": "execute_result"
    }
   ],
   "source": [
    "X_train_tfidf.shape"
   ]
  },
  {
   "cell_type": "code",
   "execution_count": 130,
   "metadata": {},
   "outputs": [
    {
     "data": {
      "text/plain": [
       "(58, 3000)"
      ]
     },
     "execution_count": 130,
     "metadata": {},
     "output_type": "execute_result"
    }
   ],
   "source": [
    "X_test_tfidf.shape"
   ]
  },
  {
   "cell_type": "code",
   "execution_count": 143,
   "metadata": {},
   "outputs": [
    {
     "name": "stderr",
     "output_type": "stream",
     "text": [
      "c:\\Users\\hanna\\AppData\\Local\\Programs\\Python\\Python312\\Lib\\site-packages\\keras\\src\\layers\\core\\dense.py:87: UserWarning: Do not pass an `input_shape`/`input_dim` argument to a layer. When using Sequential models, prefer using an `Input(shape)` object as the first layer in the model instead.\n",
      "  super().__init__(activity_regularizer=activity_regularizer, **kwargs)\n"
     ]
    },
    {
     "data": {
      "text/html": [
       "<pre style=\"white-space:pre;overflow-x:auto;line-height:normal;font-family:Menlo,'DejaVu Sans Mono',consolas,'Courier New',monospace\"><span style=\"font-weight: bold\">Model: \"sequential_4\"</span>\n",
       "</pre>\n"
      ],
      "text/plain": [
       "\u001b[1mModel: \"sequential_4\"\u001b[0m\n"
      ]
     },
     "metadata": {},
     "output_type": "display_data"
    },
    {
     "data": {
      "text/html": [
       "<pre style=\"white-space:pre;overflow-x:auto;line-height:normal;font-family:Menlo,'DejaVu Sans Mono',consolas,'Courier New',monospace\">┏━━━━━━━━━━━━━━━━━━━━━━━━━━━━━━━━━┳━━━━━━━━━━━━━━━━━━━━━━━━┳━━━━━━━━━━━━━━━┓\n",
       "┃<span style=\"font-weight: bold\"> Layer (type)                    </span>┃<span style=\"font-weight: bold\"> Output Shape           </span>┃<span style=\"font-weight: bold\">       Param # </span>┃\n",
       "┡━━━━━━━━━━━━━━━━━━━━━━━━━━━━━━━━━╇━━━━━━━━━━━━━━━━━━━━━━━━╇━━━━━━━━━━━━━━━┩\n",
       "│ dense_12 (<span style=\"color: #0087ff; text-decoration-color: #0087ff\">Dense</span>)                │ (<span style=\"color: #00d7ff; text-decoration-color: #00d7ff\">None</span>, <span style=\"color: #00af00; text-decoration-color: #00af00\">1024</span>)           │     <span style=\"color: #00af00; text-decoration-color: #00af00\">3,073,024</span> │\n",
       "├─────────────────────────────────┼────────────────────────┼───────────────┤\n",
       "│ dropout_8 (<span style=\"color: #0087ff; text-decoration-color: #0087ff\">Dropout</span>)             │ (<span style=\"color: #00d7ff; text-decoration-color: #00d7ff\">None</span>, <span style=\"color: #00af00; text-decoration-color: #00af00\">1024</span>)           │             <span style=\"color: #00af00; text-decoration-color: #00af00\">0</span> │\n",
       "├─────────────────────────────────┼────────────────────────┼───────────────┤\n",
       "│ dense_13 (<span style=\"color: #0087ff; text-decoration-color: #0087ff\">Dense</span>)                │ (<span style=\"color: #00d7ff; text-decoration-color: #00d7ff\">None</span>, <span style=\"color: #00af00; text-decoration-color: #00af00\">512</span>)            │       <span style=\"color: #00af00; text-decoration-color: #00af00\">524,800</span> │\n",
       "├─────────────────────────────────┼────────────────────────┼───────────────┤\n",
       "│ dropout_9 (<span style=\"color: #0087ff; text-decoration-color: #0087ff\">Dropout</span>)             │ (<span style=\"color: #00d7ff; text-decoration-color: #00d7ff\">None</span>, <span style=\"color: #00af00; text-decoration-color: #00af00\">512</span>)            │             <span style=\"color: #00af00; text-decoration-color: #00af00\">0</span> │\n",
       "├─────────────────────────────────┼────────────────────────┼───────────────┤\n",
       "│ dense_14 (<span style=\"color: #0087ff; text-decoration-color: #0087ff\">Dense</span>)                │ (<span style=\"color: #00d7ff; text-decoration-color: #00d7ff\">None</span>, <span style=\"color: #00af00; text-decoration-color: #00af00\">256</span>)            │       <span style=\"color: #00af00; text-decoration-color: #00af00\">131,328</span> │\n",
       "├─────────────────────────────────┼────────────────────────┼───────────────┤\n",
       "│ dropout_10 (<span style=\"color: #0087ff; text-decoration-color: #0087ff\">Dropout</span>)            │ (<span style=\"color: #00d7ff; text-decoration-color: #00d7ff\">None</span>, <span style=\"color: #00af00; text-decoration-color: #00af00\">256</span>)            │             <span style=\"color: #00af00; text-decoration-color: #00af00\">0</span> │\n",
       "├─────────────────────────────────┼────────────────────────┼───────────────┤\n",
       "│ dense_15 (<span style=\"color: #0087ff; text-decoration-color: #0087ff\">Dense</span>)                │ (<span style=\"color: #00d7ff; text-decoration-color: #00d7ff\">None</span>, <span style=\"color: #00af00; text-decoration-color: #00af00\">4</span>)              │         <span style=\"color: #00af00; text-decoration-color: #00af00\">1,028</span> │\n",
       "└─────────────────────────────────┴────────────────────────┴───────────────┘\n",
       "</pre>\n"
      ],
      "text/plain": [
       "┏━━━━━━━━━━━━━━━━━━━━━━━━━━━━━━━━━┳━━━━━━━━━━━━━━━━━━━━━━━━┳━━━━━━━━━━━━━━━┓\n",
       "┃\u001b[1m \u001b[0m\u001b[1mLayer (type)                   \u001b[0m\u001b[1m \u001b[0m┃\u001b[1m \u001b[0m\u001b[1mOutput Shape          \u001b[0m\u001b[1m \u001b[0m┃\u001b[1m \u001b[0m\u001b[1m      Param #\u001b[0m\u001b[1m \u001b[0m┃\n",
       "┡━━━━━━━━━━━━━━━━━━━━━━━━━━━━━━━━━╇━━━━━━━━━━━━━━━━━━━━━━━━╇━━━━━━━━━━━━━━━┩\n",
       "│ dense_12 (\u001b[38;5;33mDense\u001b[0m)                │ (\u001b[38;5;45mNone\u001b[0m, \u001b[38;5;34m1024\u001b[0m)           │     \u001b[38;5;34m3,073,024\u001b[0m │\n",
       "├─────────────────────────────────┼────────────────────────┼───────────────┤\n",
       "│ dropout_8 (\u001b[38;5;33mDropout\u001b[0m)             │ (\u001b[38;5;45mNone\u001b[0m, \u001b[38;5;34m1024\u001b[0m)           │             \u001b[38;5;34m0\u001b[0m │\n",
       "├─────────────────────────────────┼────────────────────────┼───────────────┤\n",
       "│ dense_13 (\u001b[38;5;33mDense\u001b[0m)                │ (\u001b[38;5;45mNone\u001b[0m, \u001b[38;5;34m512\u001b[0m)            │       \u001b[38;5;34m524,800\u001b[0m │\n",
       "├─────────────────────────────────┼────────────────────────┼───────────────┤\n",
       "│ dropout_9 (\u001b[38;5;33mDropout\u001b[0m)             │ (\u001b[38;5;45mNone\u001b[0m, \u001b[38;5;34m512\u001b[0m)            │             \u001b[38;5;34m0\u001b[0m │\n",
       "├─────────────────────────────────┼────────────────────────┼───────────────┤\n",
       "│ dense_14 (\u001b[38;5;33mDense\u001b[0m)                │ (\u001b[38;5;45mNone\u001b[0m, \u001b[38;5;34m256\u001b[0m)            │       \u001b[38;5;34m131,328\u001b[0m │\n",
       "├─────────────────────────────────┼────────────────────────┼───────────────┤\n",
       "│ dropout_10 (\u001b[38;5;33mDropout\u001b[0m)            │ (\u001b[38;5;45mNone\u001b[0m, \u001b[38;5;34m256\u001b[0m)            │             \u001b[38;5;34m0\u001b[0m │\n",
       "├─────────────────────────────────┼────────────────────────┼───────────────┤\n",
       "│ dense_15 (\u001b[38;5;33mDense\u001b[0m)                │ (\u001b[38;5;45mNone\u001b[0m, \u001b[38;5;34m4\u001b[0m)              │         \u001b[38;5;34m1,028\u001b[0m │\n",
       "└─────────────────────────────────┴────────────────────────┴───────────────┘\n"
      ]
     },
     "metadata": {},
     "output_type": "display_data"
    },
    {
     "data": {
      "text/html": [
       "<pre style=\"white-space:pre;overflow-x:auto;line-height:normal;font-family:Menlo,'DejaVu Sans Mono',consolas,'Courier New',monospace\"><span style=\"font-weight: bold\"> Total params: </span><span style=\"color: #00af00; text-decoration-color: #00af00\">3,730,180</span> (14.23 MB)\n",
       "</pre>\n"
      ],
      "text/plain": [
       "\u001b[1m Total params: \u001b[0m\u001b[38;5;34m3,730,180\u001b[0m (14.23 MB)\n"
      ]
     },
     "metadata": {},
     "output_type": "display_data"
    },
    {
     "data": {
      "text/html": [
       "<pre style=\"white-space:pre;overflow-x:auto;line-height:normal;font-family:Menlo,'DejaVu Sans Mono',consolas,'Courier New',monospace\"><span style=\"font-weight: bold\"> Trainable params: </span><span style=\"color: #00af00; text-decoration-color: #00af00\">3,730,180</span> (14.23 MB)\n",
       "</pre>\n"
      ],
      "text/plain": [
       "\u001b[1m Trainable params: \u001b[0m\u001b[38;5;34m3,730,180\u001b[0m (14.23 MB)\n"
      ]
     },
     "metadata": {},
     "output_type": "display_data"
    },
    {
     "data": {
      "text/html": [
       "<pre style=\"white-space:pre;overflow-x:auto;line-height:normal;font-family:Menlo,'DejaVu Sans Mono',consolas,'Courier New',monospace\"><span style=\"font-weight: bold\"> Non-trainable params: </span><span style=\"color: #00af00; text-decoration-color: #00af00\">0</span> (0.00 B)\n",
       "</pre>\n"
      ],
      "text/plain": [
       "\u001b[1m Non-trainable params: \u001b[0m\u001b[38;5;34m0\u001b[0m (0.00 B)\n"
      ]
     },
     "metadata": {},
     "output_type": "display_data"
    }
   ],
   "source": [
    "from tensorflow.keras.models import Sequential\n",
    "from tensorflow.keras.layers import Dense, Dropout\n",
    "from tensorflow.keras.optimizers import Adam\n",
    "from tensorflow.keras.callbacks import EarlyStopping\n",
    "\n",
    "input_shape = X_train_tfidf.shape[1]\n",
    "num_labels = y_train.shape[1]\n",
    "\n",
    "# model architecture\n",
    "model = Sequential([\n",
    "    Dense(1024, input_shape=(input_shape,), activation='relu'),\n",
    "    Dropout(0.5),\n",
    "    Dense(512, activation='relu'),\n",
    "    Dropout(0.3),\n",
    "    Dense(256, activation='relu'),\n",
    "    Dropout(0.3),\n",
    "    Dense(num_labels, activation='sigmoid')\n",
    "])\n",
    "\n",
    "# compile the model\n",
    "model.compile(loss='binary_crossentropy', optimizer=Adam(learning_rate=0.00001), metrics=['accuracy'])\n",
    "\n",
    "early_stopping = EarlyStopping(monitor='val_loss', patience=5, restore_best_weights=True)\n",
    "\n",
    "# model summary\n",
    "model.summary() "
   ]
  },
  {
   "cell_type": "code",
   "execution_count": 144,
   "metadata": {},
   "outputs": [
    {
     "name": "stdout",
     "output_type": "stream",
     "text": [
      "Epoch 1/100\n"
     ]
    },
    {
     "name": "stdout",
     "output_type": "stream",
     "text": [
      "\u001b[1m5/5\u001b[0m \u001b[32m━━━━━━━━━━━━━━━━━━━━\u001b[0m\u001b[37m\u001b[0m \u001b[1m2s\u001b[0m 68ms/step - accuracy: 0.2404 - loss: 0.6928 - val_accuracy: 0.4624 - val_loss: 0.6914\n",
      "Epoch 2/100\n",
      "\u001b[1m5/5\u001b[0m \u001b[32m━━━━━━━━━━━━━━━━━━━━\u001b[0m\u001b[37m\u001b[0m \u001b[1m0s\u001b[0m 32ms/step - accuracy: 0.2487 - loss: 0.6932 - val_accuracy: 0.4839 - val_loss: 0.6908\n",
      "Epoch 3/100\n",
      "\u001b[1m5/5\u001b[0m \u001b[32m━━━━━━━━━━━━━━━━━━━━\u001b[0m\u001b[37m\u001b[0m \u001b[1m0s\u001b[0m 33ms/step - accuracy: 0.2591 - loss: 0.6918 - val_accuracy: 0.5484 - val_loss: 0.6903\n",
      "Epoch 4/100\n",
      "\u001b[1m5/5\u001b[0m \u001b[32m━━━━━━━━━━━━━━━━━━━━\u001b[0m\u001b[37m\u001b[0m \u001b[1m0s\u001b[0m 33ms/step - accuracy: 0.3495 - loss: 0.6906 - val_accuracy: 0.6022 - val_loss: 0.6898\n",
      "Epoch 5/100\n",
      "\u001b[1m5/5\u001b[0m \u001b[32m━━━━━━━━━━━━━━━━━━━━\u001b[0m\u001b[37m\u001b[0m \u001b[1m0s\u001b[0m 36ms/step - accuracy: 0.3901 - loss: 0.6899 - val_accuracy: 0.6774 - val_loss: 0.6892\n",
      "Epoch 6/100\n",
      "\u001b[1m5/5\u001b[0m \u001b[32m━━━━━━━━━━━━━━━━━━━━\u001b[0m\u001b[37m\u001b[0m \u001b[1m0s\u001b[0m 36ms/step - accuracy: 0.4049 - loss: 0.6904 - val_accuracy: 0.6774 - val_loss: 0.6887\n",
      "Epoch 7/100\n",
      "\u001b[1m5/5\u001b[0m \u001b[32m━━━━━━━━━━━━━━━━━━━━\u001b[0m\u001b[37m\u001b[0m \u001b[1m0s\u001b[0m 38ms/step - accuracy: 0.3554 - loss: 0.6898 - val_accuracy: 0.6774 - val_loss: 0.6882\n",
      "Epoch 8/100\n",
      "\u001b[1m5/5\u001b[0m \u001b[32m━━━━━━━━━━━━━━━━━━━━\u001b[0m\u001b[37m\u001b[0m \u001b[1m0s\u001b[0m 43ms/step - accuracy: 0.4329 - loss: 0.6895 - val_accuracy: 0.6774 - val_loss: 0.6877\n",
      "Epoch 9/100\n",
      "\u001b[1m5/5\u001b[0m \u001b[32m━━━━━━━━━━━━━━━━━━━━\u001b[0m\u001b[37m\u001b[0m \u001b[1m0s\u001b[0m 36ms/step - accuracy: 0.4140 - loss: 0.6897 - val_accuracy: 0.6882 - val_loss: 0.6871\n",
      "Epoch 10/100\n",
      "\u001b[1m5/5\u001b[0m \u001b[32m━━━━━━━━━━━━━━━━━━━━\u001b[0m\u001b[37m\u001b[0m \u001b[1m0s\u001b[0m 35ms/step - accuracy: 0.3673 - loss: 0.6885 - val_accuracy: 0.6882 - val_loss: 0.6866\n",
      "Epoch 11/100\n",
      "\u001b[1m5/5\u001b[0m \u001b[32m━━━━━━━━━━━━━━━━━━━━\u001b[0m\u001b[37m\u001b[0m \u001b[1m0s\u001b[0m 32ms/step - accuracy: 0.4427 - loss: 0.6880 - val_accuracy: 0.6882 - val_loss: 0.6860\n",
      "Epoch 12/100\n",
      "\u001b[1m5/5\u001b[0m \u001b[32m━━━━━━━━━━━━━━━━━━━━\u001b[0m\u001b[37m\u001b[0m \u001b[1m0s\u001b[0m 32ms/step - accuracy: 0.4760 - loss: 0.6876 - val_accuracy: 0.6882 - val_loss: 0.6855\n",
      "Epoch 13/100\n",
      "\u001b[1m5/5\u001b[0m \u001b[32m━━━━━━━━━━━━━━━━━━━━\u001b[0m\u001b[37m\u001b[0m \u001b[1m0s\u001b[0m 35ms/step - accuracy: 0.5499 - loss: 0.6867 - val_accuracy: 0.6882 - val_loss: 0.6849\n",
      "Epoch 14/100\n",
      "\u001b[1m5/5\u001b[0m \u001b[32m━━━━━━━━━━━━━━━━━━━━\u001b[0m\u001b[37m\u001b[0m \u001b[1m0s\u001b[0m 36ms/step - accuracy: 0.5073 - loss: 0.6860 - val_accuracy: 0.6882 - val_loss: 0.6843\n",
      "Epoch 15/100\n",
      "\u001b[1m5/5\u001b[0m \u001b[32m━━━━━━━━━━━━━━━━━━━━\u001b[0m\u001b[37m\u001b[0m \u001b[1m0s\u001b[0m 32ms/step - accuracy: 0.5844 - loss: 0.6836 - val_accuracy: 0.6882 - val_loss: 0.6838\n",
      "Epoch 16/100\n",
      "\u001b[1m5/5\u001b[0m \u001b[32m━━━━━━━━━━━━━━━━━━━━\u001b[0m\u001b[37m\u001b[0m \u001b[1m0s\u001b[0m 43ms/step - accuracy: 0.5905 - loss: 0.6843 - val_accuracy: 0.6882 - val_loss: 0.6832\n",
      "Epoch 17/100\n",
      "\u001b[1m5/5\u001b[0m \u001b[32m━━━━━━━━━━━━━━━━━━━━\u001b[0m\u001b[37m\u001b[0m \u001b[1m0s\u001b[0m 33ms/step - accuracy: 0.5827 - loss: 0.6844 - val_accuracy: 0.6882 - val_loss: 0.6827\n",
      "Epoch 18/100\n",
      "\u001b[1m5/5\u001b[0m \u001b[32m━━━━━━━━━━━━━━━━━━━━\u001b[0m\u001b[37m\u001b[0m \u001b[1m0s\u001b[0m 34ms/step - accuracy: 0.5631 - loss: 0.6841 - val_accuracy: 0.6882 - val_loss: 0.6821\n",
      "Epoch 19/100\n",
      "\u001b[1m5/5\u001b[0m \u001b[32m━━━━━━━━━━━━━━━━━━━━\u001b[0m\u001b[37m\u001b[0m \u001b[1m0s\u001b[0m 35ms/step - accuracy: 0.6318 - loss: 0.6834 - val_accuracy: 0.6882 - val_loss: 0.6815\n",
      "Epoch 20/100\n",
      "\u001b[1m5/5\u001b[0m \u001b[32m━━━━━━━━━━━━━━━━━━━━\u001b[0m\u001b[37m\u001b[0m \u001b[1m0s\u001b[0m 33ms/step - accuracy: 0.6179 - loss: 0.6823 - val_accuracy: 0.6882 - val_loss: 0.6809\n",
      "Epoch 21/100\n",
      "\u001b[1m5/5\u001b[0m \u001b[32m━━━━━━━━━━━━━━━━━━━━\u001b[0m\u001b[37m\u001b[0m \u001b[1m0s\u001b[0m 33ms/step - accuracy: 0.5825 - loss: 0.6809 - val_accuracy: 0.6882 - val_loss: 0.6802\n",
      "Epoch 22/100\n",
      "\u001b[1m5/5\u001b[0m \u001b[32m━━━━━━━━━━━━━━━━━━━━\u001b[0m\u001b[37m\u001b[0m \u001b[1m0s\u001b[0m 33ms/step - accuracy: 0.5890 - loss: 0.6827 - val_accuracy: 0.6882 - val_loss: 0.6796\n",
      "Epoch 23/100\n",
      "\u001b[1m5/5\u001b[0m \u001b[32m━━━━━━━━━━━━━━━━━━━━\u001b[0m\u001b[37m\u001b[0m \u001b[1m0s\u001b[0m 34ms/step - accuracy: 0.5772 - loss: 0.6804 - val_accuracy: 0.6882 - val_loss: 0.6790\n",
      "Epoch 24/100\n",
      "\u001b[1m5/5\u001b[0m \u001b[32m━━━━━━━━━━━━━━━━━━━━\u001b[0m\u001b[37m\u001b[0m \u001b[1m0s\u001b[0m 32ms/step - accuracy: 0.5992 - loss: 0.6807 - val_accuracy: 0.6882 - val_loss: 0.6783\n",
      "Epoch 25/100\n",
      "\u001b[1m5/5\u001b[0m \u001b[32m━━━━━━━━━━━━━━━━━━━━\u001b[0m\u001b[37m\u001b[0m \u001b[1m0s\u001b[0m 32ms/step - accuracy: 0.6123 - loss: 0.6790 - val_accuracy: 0.6882 - val_loss: 0.6776\n",
      "Epoch 26/100\n",
      "\u001b[1m5/5\u001b[0m \u001b[32m━━━━━━━━━━━━━━━━━━━━\u001b[0m\u001b[37m\u001b[0m \u001b[1m0s\u001b[0m 32ms/step - accuracy: 0.6500 - loss: 0.6757 - val_accuracy: 0.6882 - val_loss: 0.6769\n",
      "Epoch 27/100\n",
      "\u001b[1m5/5\u001b[0m \u001b[32m━━━━━━━━━━━━━━━━━━━━\u001b[0m\u001b[37m\u001b[0m \u001b[1m0s\u001b[0m 35ms/step - accuracy: 0.6114 - loss: 0.6795 - val_accuracy: 0.6882 - val_loss: 0.6762\n",
      "Epoch 28/100\n",
      "\u001b[1m5/5\u001b[0m \u001b[32m━━━━━━━━━━━━━━━━━━━━\u001b[0m\u001b[37m\u001b[0m \u001b[1m0s\u001b[0m 32ms/step - accuracy: 0.6546 - loss: 0.6748 - val_accuracy: 0.6882 - val_loss: 0.6755\n",
      "Epoch 29/100\n",
      "\u001b[1m5/5\u001b[0m \u001b[32m━━━━━━━━━━━━━━━━━━━━\u001b[0m\u001b[37m\u001b[0m \u001b[1m0s\u001b[0m 33ms/step - accuracy: 0.6173 - loss: 0.6761 - val_accuracy: 0.6882 - val_loss: 0.6748\n",
      "Epoch 30/100\n",
      "\u001b[1m5/5\u001b[0m \u001b[32m━━━━━━━━━━━━━━━━━━━━\u001b[0m\u001b[37m\u001b[0m \u001b[1m0s\u001b[0m 33ms/step - accuracy: 0.6031 - loss: 0.6772 - val_accuracy: 0.6882 - val_loss: 0.6741\n",
      "Epoch 31/100\n",
      "\u001b[1m5/5\u001b[0m \u001b[32m━━━━━━━━━━━━━━━━━━━━\u001b[0m\u001b[37m\u001b[0m \u001b[1m0s\u001b[0m 40ms/step - accuracy: 0.6537 - loss: 0.6754 - val_accuracy: 0.6882 - val_loss: 0.6734\n",
      "Epoch 32/100\n",
      "\u001b[1m5/5\u001b[0m \u001b[32m━━━━━━━━━━━━━━━━━━━━\u001b[0m\u001b[37m\u001b[0m \u001b[1m0s\u001b[0m 37ms/step - accuracy: 0.5864 - loss: 0.6779 - val_accuracy: 0.6882 - val_loss: 0.6727\n",
      "Epoch 33/100\n",
      "\u001b[1m5/5\u001b[0m \u001b[32m━━━━━━━━━━━━━━━━━━━━\u001b[0m\u001b[37m\u001b[0m \u001b[1m0s\u001b[0m 39ms/step - accuracy: 0.6242 - loss: 0.6742 - val_accuracy: 0.6882 - val_loss: 0.6719\n",
      "Epoch 34/100\n",
      "\u001b[1m5/5\u001b[0m \u001b[32m━━━━━━━━━━━━━━━━━━━━\u001b[0m\u001b[37m\u001b[0m \u001b[1m0s\u001b[0m 37ms/step - accuracy: 0.5804 - loss: 0.6754 - val_accuracy: 0.6882 - val_loss: 0.6711\n",
      "Epoch 35/100\n",
      "\u001b[1m5/5\u001b[0m \u001b[32m━━━━━━━━━━━━━━━━━━━━\u001b[0m\u001b[37m\u001b[0m \u001b[1m0s\u001b[0m 46ms/step - accuracy: 0.6207 - loss: 0.6727 - val_accuracy: 0.6882 - val_loss: 0.6703\n",
      "Epoch 36/100\n",
      "\u001b[1m5/5\u001b[0m \u001b[32m━━━━━━━━━━━━━━━━━━━━\u001b[0m\u001b[37m\u001b[0m \u001b[1m0s\u001b[0m 45ms/step - accuracy: 0.6008 - loss: 0.6736 - val_accuracy: 0.6882 - val_loss: 0.6695\n",
      "Epoch 37/100\n",
      "\u001b[1m5/5\u001b[0m \u001b[32m━━━━━━━━━━━━━━━━━━━━\u001b[0m\u001b[37m\u001b[0m \u001b[1m0s\u001b[0m 42ms/step - accuracy: 0.6216 - loss: 0.6715 - val_accuracy: 0.6882 - val_loss: 0.6686\n",
      "Epoch 38/100\n",
      "\u001b[1m5/5\u001b[0m \u001b[32m━━━━━━━━━━━━━━━━━━━━\u001b[0m\u001b[37m\u001b[0m \u001b[1m0s\u001b[0m 35ms/step - accuracy: 0.6029 - loss: 0.6702 - val_accuracy: 0.6882 - val_loss: 0.6677\n",
      "Epoch 39/100\n",
      "\u001b[1m5/5\u001b[0m \u001b[32m━━━━━━━━━━━━━━━━━━━━\u001b[0m\u001b[37m\u001b[0m \u001b[1m0s\u001b[0m 37ms/step - accuracy: 0.6507 - loss: 0.6672 - val_accuracy: 0.6882 - val_loss: 0.6667\n",
      "Epoch 40/100\n",
      "\u001b[1m5/5\u001b[0m \u001b[32m━━━━━━━━━━━━━━━━━━━━\u001b[0m\u001b[37m\u001b[0m \u001b[1m0s\u001b[0m 34ms/step - accuracy: 0.6476 - loss: 0.6652 - val_accuracy: 0.6882 - val_loss: 0.6658\n",
      "Epoch 41/100\n",
      "\u001b[1m5/5\u001b[0m \u001b[32m━━━━━━━━━━━━━━━━━━━━\u001b[0m\u001b[37m\u001b[0m \u001b[1m0s\u001b[0m 35ms/step - accuracy: 0.6281 - loss: 0.6662 - val_accuracy: 0.6882 - val_loss: 0.6649\n",
      "Epoch 42/100\n",
      "\u001b[1m5/5\u001b[0m \u001b[32m━━━━━━━━━━━━━━━━━━━━\u001b[0m\u001b[37m\u001b[0m \u001b[1m0s\u001b[0m 35ms/step - accuracy: 0.6277 - loss: 0.6665 - val_accuracy: 0.6882 - val_loss: 0.6640\n",
      "Epoch 43/100\n",
      "\u001b[1m5/5\u001b[0m \u001b[32m━━━━━━━━━━━━━━━━━━━━\u001b[0m\u001b[37m\u001b[0m \u001b[1m0s\u001b[0m 34ms/step - accuracy: 0.6246 - loss: 0.6654 - val_accuracy: 0.6882 - val_loss: 0.6631\n",
      "Epoch 44/100\n",
      "\u001b[1m5/5\u001b[0m \u001b[32m━━━━━━━━━━━━━━━━━━━━\u001b[0m\u001b[37m\u001b[0m \u001b[1m0s\u001b[0m 33ms/step - accuracy: 0.6398 - loss: 0.6600 - val_accuracy: 0.6882 - val_loss: 0.6621\n",
      "Epoch 45/100\n",
      "\u001b[1m5/5\u001b[0m \u001b[32m━━━━━━━━━━━━━━━━━━━━\u001b[0m\u001b[37m\u001b[0m \u001b[1m0s\u001b[0m 32ms/step - accuracy: 0.5990 - loss: 0.6663 - val_accuracy: 0.6882 - val_loss: 0.6611\n",
      "Epoch 46/100\n",
      "\u001b[1m5/5\u001b[0m \u001b[32m━━━━━━━━━━━━━━━━━━━━\u001b[0m\u001b[37m\u001b[0m \u001b[1m0s\u001b[0m 34ms/step - accuracy: 0.6003 - loss: 0.6650 - val_accuracy: 0.6882 - val_loss: 0.6601\n",
      "Epoch 47/100\n",
      "\u001b[1m5/5\u001b[0m \u001b[32m━━━━━━━━━━━━━━━━━━━━\u001b[0m\u001b[37m\u001b[0m \u001b[1m0s\u001b[0m 34ms/step - accuracy: 0.6511 - loss: 0.6593 - val_accuracy: 0.6882 - val_loss: 0.6590\n",
      "Epoch 48/100\n",
      "\u001b[1m5/5\u001b[0m \u001b[32m━━━━━━━━━━━━━━━━━━━━\u001b[0m\u001b[37m\u001b[0m \u001b[1m0s\u001b[0m 33ms/step - accuracy: 0.6220 - loss: 0.6629 - val_accuracy: 0.6882 - val_loss: 0.6579\n",
      "Epoch 49/100\n",
      "\u001b[1m5/5\u001b[0m \u001b[32m━━━━━━━━━━━━━━━━━━━━\u001b[0m\u001b[37m\u001b[0m \u001b[1m0s\u001b[0m 33ms/step - accuracy: 0.6173 - loss: 0.6599 - val_accuracy: 0.6882 - val_loss: 0.6567\n",
      "Epoch 50/100\n",
      "\u001b[1m5/5\u001b[0m \u001b[32m━━━━━━━━━━━━━━━━━━━━\u001b[0m\u001b[37m\u001b[0m \u001b[1m0s\u001b[0m 33ms/step - accuracy: 0.5912 - loss: 0.6581 - val_accuracy: 0.6882 - val_loss: 0.6556\n",
      "Epoch 51/100\n",
      "\u001b[1m5/5\u001b[0m \u001b[32m━━━━━━━━━━━━━━━━━━━━\u001b[0m\u001b[37m\u001b[0m \u001b[1m0s\u001b[0m 31ms/step - accuracy: 0.6576 - loss: 0.6539 - val_accuracy: 0.6882 - val_loss: 0.6544\n",
      "Epoch 52/100\n",
      "\u001b[1m5/5\u001b[0m \u001b[32m━━━━━━━━━━━━━━━━━━━━\u001b[0m\u001b[37m\u001b[0m \u001b[1m0s\u001b[0m 31ms/step - accuracy: 0.6264 - loss: 0.6583 - val_accuracy: 0.6882 - val_loss: 0.6533\n",
      "Epoch 53/100\n",
      "\u001b[1m5/5\u001b[0m \u001b[32m━━━━━━━━━━━━━━━━━━━━\u001b[0m\u001b[37m\u001b[0m \u001b[1m0s\u001b[0m 33ms/step - accuracy: 0.6151 - loss: 0.6570 - val_accuracy: 0.6882 - val_loss: 0.6521\n",
      "Epoch 54/100\n",
      "\u001b[1m5/5\u001b[0m \u001b[32m━━━━━━━━━━━━━━━━━━━━\u001b[0m\u001b[37m\u001b[0m \u001b[1m0s\u001b[0m 32ms/step - accuracy: 0.5999 - loss: 0.6595 - val_accuracy: 0.6882 - val_loss: 0.6509\n",
      "Epoch 55/100\n",
      "\u001b[1m5/5\u001b[0m \u001b[32m━━━━━━━━━━━━━━━━━━━━\u001b[0m\u001b[37m\u001b[0m \u001b[1m0s\u001b[0m 32ms/step - accuracy: 0.6207 - loss: 0.6535 - val_accuracy: 0.6882 - val_loss: 0.6496\n",
      "Epoch 56/100\n",
      "\u001b[1m5/5\u001b[0m \u001b[32m━━━━━━━━━━━━━━━━━━━━\u001b[0m\u001b[37m\u001b[0m \u001b[1m0s\u001b[0m 33ms/step - accuracy: 0.5999 - loss: 0.6499 - val_accuracy: 0.6882 - val_loss: 0.6483\n",
      "Epoch 57/100\n",
      "\u001b[1m5/5\u001b[0m \u001b[32m━━━━━━━━━━━━━━━━━━━━\u001b[0m\u001b[37m\u001b[0m \u001b[1m0s\u001b[0m 33ms/step - accuracy: 0.6155 - loss: 0.6516 - val_accuracy: 0.6882 - val_loss: 0.6470\n",
      "Epoch 58/100\n",
      "\u001b[1m5/5\u001b[0m \u001b[32m━━━━━━━━━━━━━━━━━━━━\u001b[0m\u001b[37m\u001b[0m \u001b[1m0s\u001b[0m 33ms/step - accuracy: 0.5990 - loss: 0.6517 - val_accuracy: 0.6882 - val_loss: 0.6457\n",
      "Epoch 59/100\n",
      "\u001b[1m5/5\u001b[0m \u001b[32m━━━━━━━━━━━━━━━━━━━━\u001b[0m\u001b[37m\u001b[0m \u001b[1m0s\u001b[0m 32ms/step - accuracy: 0.5873 - loss: 0.6489 - val_accuracy: 0.6882 - val_loss: 0.6444\n",
      "Epoch 60/100\n",
      "\u001b[1m5/5\u001b[0m \u001b[32m━━━━━━━━━━━━━━━━━━━━\u001b[0m\u001b[37m\u001b[0m \u001b[1m0s\u001b[0m 32ms/step - accuracy: 0.6342 - loss: 0.6460 - val_accuracy: 0.6882 - val_loss: 0.6430\n",
      "Epoch 61/100\n",
      "\u001b[1m5/5\u001b[0m \u001b[32m━━━━━━━━━━━━━━━━━━━━\u001b[0m\u001b[37m\u001b[0m \u001b[1m0s\u001b[0m 32ms/step - accuracy: 0.6090 - loss: 0.6458 - val_accuracy: 0.6882 - val_loss: 0.6416\n",
      "Epoch 62/100\n",
      "\u001b[1m5/5\u001b[0m \u001b[32m━━━━━━━━━━━━━━━━━━━━\u001b[0m\u001b[37m\u001b[0m \u001b[1m0s\u001b[0m 31ms/step - accuracy: 0.5951 - loss: 0.6469 - val_accuracy: 0.6882 - val_loss: 0.6402\n",
      "Epoch 63/100\n",
      "\u001b[1m5/5\u001b[0m \u001b[32m━━━━━━━━━━━━━━━━━━━━\u001b[0m\u001b[37m\u001b[0m \u001b[1m0s\u001b[0m 33ms/step - accuracy: 0.5838 - loss: 0.6483 - val_accuracy: 0.6882 - val_loss: 0.6387\n",
      "Epoch 64/100\n",
      "\u001b[1m5/5\u001b[0m \u001b[32m━━━━━━━━━━━━━━━━━━━━\u001b[0m\u001b[37m\u001b[0m \u001b[1m0s\u001b[0m 32ms/step - accuracy: 0.5934 - loss: 0.6468 - val_accuracy: 0.6882 - val_loss: 0.6373\n",
      "Epoch 65/100\n",
      "\u001b[1m5/5\u001b[0m \u001b[32m━━━━━━━━━━━━━━━━━━━━\u001b[0m\u001b[37m\u001b[0m \u001b[1m0s\u001b[0m 32ms/step - accuracy: 0.5925 - loss: 0.6412 - val_accuracy: 0.6882 - val_loss: 0.6357\n",
      "Epoch 66/100\n",
      "\u001b[1m5/5\u001b[0m \u001b[32m━━━━━━━━━━━━━━━━━━━━\u001b[0m\u001b[37m\u001b[0m \u001b[1m0s\u001b[0m 34ms/step - accuracy: 0.6081 - loss: 0.6386 - val_accuracy: 0.6882 - val_loss: 0.6340\n",
      "Epoch 67/100\n",
      "\u001b[1m5/5\u001b[0m \u001b[32m━━━━━━━━━━━━━━━━━━━━\u001b[0m\u001b[37m\u001b[0m \u001b[1m0s\u001b[0m 33ms/step - accuracy: 0.6081 - loss: 0.6408 - val_accuracy: 0.6882 - val_loss: 0.6325\n",
      "Epoch 68/100\n",
      "\u001b[1m5/5\u001b[0m \u001b[32m━━━━━━━━━━━━━━━━━━━━\u001b[0m\u001b[37m\u001b[0m \u001b[1m0s\u001b[0m 33ms/step - accuracy: 0.6055 - loss: 0.6326 - val_accuracy: 0.6882 - val_loss: 0.6308\n",
      "Epoch 69/100\n",
      "\u001b[1m5/5\u001b[0m \u001b[32m━━━━━━━━━━━━━━━━━━━━\u001b[0m\u001b[37m\u001b[0m \u001b[1m0s\u001b[0m 31ms/step - accuracy: 0.6207 - loss: 0.6315 - val_accuracy: 0.6882 - val_loss: 0.6293\n",
      "Epoch 70/100\n",
      "\u001b[1m5/5\u001b[0m \u001b[32m━━━━━━━━━━━━━━━━━━━━\u001b[0m\u001b[37m\u001b[0m \u001b[1m0s\u001b[0m 32ms/step - accuracy: 0.6121 - loss: 0.6349 - val_accuracy: 0.6882 - val_loss: 0.6277\n",
      "Epoch 71/100\n",
      "\u001b[1m5/5\u001b[0m \u001b[32m━━━━━━━━━━━━━━━━━━━━\u001b[0m\u001b[37m\u001b[0m \u001b[1m0s\u001b[0m 33ms/step - accuracy: 0.6385 - loss: 0.6288 - val_accuracy: 0.6882 - val_loss: 0.6261\n",
      "Epoch 72/100\n",
      "\u001b[1m5/5\u001b[0m \u001b[32m━━━━━━━━━━━━━━━━━━━━\u001b[0m\u001b[37m\u001b[0m \u001b[1m0s\u001b[0m 35ms/step - accuracy: 0.6368 - loss: 0.6220 - val_accuracy: 0.6882 - val_loss: 0.6244\n",
      "Epoch 73/100\n",
      "\u001b[1m5/5\u001b[0m \u001b[32m━━━━━━━━━━━━━━━━━━━━\u001b[0m\u001b[37m\u001b[0m \u001b[1m0s\u001b[0m 32ms/step - accuracy: 0.6233 - loss: 0.6307 - val_accuracy: 0.6882 - val_loss: 0.6229\n",
      "Epoch 74/100\n",
      "\u001b[1m5/5\u001b[0m \u001b[32m━━━━━━━━━━━━━━━━━━━━\u001b[0m\u001b[37m\u001b[0m \u001b[1m0s\u001b[0m 32ms/step - accuracy: 0.5960 - loss: 0.6340 - val_accuracy: 0.6882 - val_loss: 0.6212\n",
      "Epoch 75/100\n",
      "\u001b[1m5/5\u001b[0m \u001b[32m━━━━━━━━━━━━━━━━━━━━\u001b[0m\u001b[37m\u001b[0m \u001b[1m0s\u001b[0m 32ms/step - accuracy: 0.6038 - loss: 0.6224 - val_accuracy: 0.6882 - val_loss: 0.6195\n",
      "Epoch 76/100\n",
      "\u001b[1m5/5\u001b[0m \u001b[32m━━━━━━━━━━━━━━━━━━━━\u001b[0m\u001b[37m\u001b[0m \u001b[1m0s\u001b[0m 33ms/step - accuracy: 0.6329 - loss: 0.6199 - val_accuracy: 0.6882 - val_loss: 0.6177\n",
      "Epoch 77/100\n",
      "\u001b[1m5/5\u001b[0m \u001b[32m━━━━━━━━━━━━━━━━━━━━\u001b[0m\u001b[37m\u001b[0m \u001b[1m0s\u001b[0m 32ms/step - accuracy: 0.6364 - loss: 0.6194 - val_accuracy: 0.6882 - val_loss: 0.6159\n",
      "Epoch 78/100\n",
      "\u001b[1m5/5\u001b[0m \u001b[32m━━━━━━━━━━━━━━━━━━━━\u001b[0m\u001b[37m\u001b[0m \u001b[1m0s\u001b[0m 33ms/step - accuracy: 0.6055 - loss: 0.6228 - val_accuracy: 0.6882 - val_loss: 0.6141\n",
      "Epoch 79/100\n",
      "\u001b[1m5/5\u001b[0m \u001b[32m━━━━━━━━━━━━━━━━━━━━\u001b[0m\u001b[37m\u001b[0m \u001b[1m0s\u001b[0m 34ms/step - accuracy: 0.5995 - loss: 0.6213 - val_accuracy: 0.6882 - val_loss: 0.6122\n",
      "Epoch 80/100\n",
      "\u001b[1m5/5\u001b[0m \u001b[32m━━━━━━━━━━━━━━━━━━━━\u001b[0m\u001b[37m\u001b[0m \u001b[1m0s\u001b[0m 32ms/step - accuracy: 0.6264 - loss: 0.6049 - val_accuracy: 0.6882 - val_loss: 0.6104\n",
      "Epoch 81/100\n",
      "\u001b[1m5/5\u001b[0m \u001b[32m━━━━━━━━━━━━━━━━━━━━\u001b[0m\u001b[37m\u001b[0m \u001b[1m0s\u001b[0m 32ms/step - accuracy: 0.6502 - loss: 0.6070 - val_accuracy: 0.6882 - val_loss: 0.6087\n",
      "Epoch 82/100\n",
      "\u001b[1m5/5\u001b[0m \u001b[32m━━━━━━━━━━━━━━━━━━━━\u001b[0m\u001b[37m\u001b[0m \u001b[1m0s\u001b[0m 45ms/step - accuracy: 0.6281 - loss: 0.6078 - val_accuracy: 0.6882 - val_loss: 0.6071\n",
      "Epoch 83/100\n",
      "\u001b[1m5/5\u001b[0m \u001b[32m━━━━━━━━━━━━━━━━━━━━\u001b[0m\u001b[37m\u001b[0m \u001b[1m0s\u001b[0m 32ms/step - accuracy: 0.6429 - loss: 0.6042 - val_accuracy: 0.6882 - val_loss: 0.6054\n",
      "Epoch 84/100\n",
      "\u001b[1m5/5\u001b[0m \u001b[32m━━━━━━━━━━━━━━━━━━━━\u001b[0m\u001b[37m\u001b[0m \u001b[1m0s\u001b[0m 33ms/step - accuracy: 0.6008 - loss: 0.6146 - val_accuracy: 0.6882 - val_loss: 0.6038\n",
      "Epoch 85/100\n",
      "\u001b[1m5/5\u001b[0m \u001b[32m━━━━━━━━━━━━━━━━━━━━\u001b[0m\u001b[37m\u001b[0m \u001b[1m0s\u001b[0m 36ms/step - accuracy: 0.6173 - loss: 0.6058 - val_accuracy: 0.6882 - val_loss: 0.6020\n",
      "Epoch 86/100\n",
      "\u001b[1m5/5\u001b[0m \u001b[32m━━━━━━━━━━━━━━━━━━━━\u001b[0m\u001b[37m\u001b[0m \u001b[1m0s\u001b[0m 33ms/step - accuracy: 0.6129 - loss: 0.6110 - val_accuracy: 0.6882 - val_loss: 0.6001\n",
      "Epoch 87/100\n",
      "\u001b[1m5/5\u001b[0m \u001b[32m━━━━━━━━━━━━━━━━━━━━\u001b[0m\u001b[37m\u001b[0m \u001b[1m0s\u001b[0m 32ms/step - accuracy: 0.6220 - loss: 0.6055 - val_accuracy: 0.6882 - val_loss: 0.5982\n",
      "Epoch 88/100\n",
      "\u001b[1m5/5\u001b[0m \u001b[32m━━━━━━━━━━━━━━━━━━━━\u001b[0m\u001b[37m\u001b[0m \u001b[1m0s\u001b[0m 33ms/step - accuracy: 0.6003 - loss: 0.6059 - val_accuracy: 0.6882 - val_loss: 0.5964\n",
      "Epoch 89/100\n",
      "\u001b[1m5/5\u001b[0m \u001b[32m━━━━━━━━━━━━━━━━━━━━\u001b[0m\u001b[37m\u001b[0m \u001b[1m0s\u001b[0m 32ms/step - accuracy: 0.6025 - loss: 0.5969 - val_accuracy: 0.6882 - val_loss: 0.5945\n",
      "Epoch 90/100\n",
      "\u001b[1m5/5\u001b[0m \u001b[32m━━━━━━━━━━━━━━━━━━━━\u001b[0m\u001b[37m\u001b[0m \u001b[1m0s\u001b[0m 32ms/step - accuracy: 0.6520 - loss: 0.5936 - val_accuracy: 0.6882 - val_loss: 0.5926\n",
      "Epoch 91/100\n",
      "\u001b[1m5/5\u001b[0m \u001b[32m━━━━━━━━━━━━━━━━━━━━\u001b[0m\u001b[37m\u001b[0m \u001b[1m0s\u001b[0m 31ms/step - accuracy: 0.6481 - loss: 0.5872 - val_accuracy: 0.6882 - val_loss: 0.5907\n",
      "Epoch 92/100\n",
      "\u001b[1m5/5\u001b[0m \u001b[32m━━━━━━━━━━━━━━━━━━━━\u001b[0m\u001b[37m\u001b[0m \u001b[1m0s\u001b[0m 32ms/step - accuracy: 0.6029 - loss: 0.6039 - val_accuracy: 0.6882 - val_loss: 0.5889\n",
      "Epoch 93/100\n",
      "\u001b[1m5/5\u001b[0m \u001b[32m━━━━━━━━━━━━━━━━━━━━\u001b[0m\u001b[37m\u001b[0m \u001b[1m0s\u001b[0m 35ms/step - accuracy: 0.6507 - loss: 0.5784 - val_accuracy: 0.6882 - val_loss: 0.5869\n",
      "Epoch 94/100\n",
      "\u001b[1m5/5\u001b[0m \u001b[32m━━━━━━━━━━━━━━━━━━━━\u001b[0m\u001b[37m\u001b[0m \u001b[1m0s\u001b[0m 33ms/step - accuracy: 0.5930 - loss: 0.5942 - val_accuracy: 0.6882 - val_loss: 0.5851\n",
      "Epoch 95/100\n",
      "\u001b[1m5/5\u001b[0m \u001b[32m━━━━━━━━━━━━━━━━━━━━\u001b[0m\u001b[37m\u001b[0m \u001b[1m0s\u001b[0m 35ms/step - accuracy: 0.6776 - loss: 0.5659 - val_accuracy: 0.6882 - val_loss: 0.5832\n",
      "Epoch 96/100\n",
      "\u001b[1m5/5\u001b[0m \u001b[32m━━━━━━━━━━━━━━━━━━━━\u001b[0m\u001b[37m\u001b[0m \u001b[1m0s\u001b[0m 32ms/step - accuracy: 0.5812 - loss: 0.5925 - val_accuracy: 0.6882 - val_loss: 0.5817\n",
      "Epoch 97/100\n",
      "\u001b[1m5/5\u001b[0m \u001b[32m━━━━━━━━━━━━━━━━━━━━\u001b[0m\u001b[37m\u001b[0m \u001b[1m0s\u001b[0m 37ms/step - accuracy: 0.6233 - loss: 0.5887 - val_accuracy: 0.6882 - val_loss: 0.5800\n",
      "Epoch 98/100\n",
      "\u001b[1m5/5\u001b[0m \u001b[32m━━━━━━━━━━━━━━━━━━━━\u001b[0m\u001b[37m\u001b[0m \u001b[1m0s\u001b[0m 37ms/step - accuracy: 0.5834 - loss: 0.5865 - val_accuracy: 0.6882 - val_loss: 0.5783\n",
      "Epoch 99/100\n",
      "\u001b[1m5/5\u001b[0m \u001b[32m━━━━━━━━━━━━━━━━━━━━\u001b[0m\u001b[37m\u001b[0m \u001b[1m0s\u001b[0m 40ms/step - accuracy: 0.5925 - loss: 0.5953 - val_accuracy: 0.6882 - val_loss: 0.5765\n",
      "Epoch 100/100\n",
      "\u001b[1m5/5\u001b[0m \u001b[32m━━━━━━━━━━━━━━━━━━━━\u001b[0m\u001b[37m\u001b[0m \u001b[1m0s\u001b[0m 36ms/step - accuracy: 0.5925 - loss: 0.5906 - val_accuracy: 0.6882 - val_loss: 0.5748\n"
     ]
    }
   ],
   "source": [
    "history = model.fit(X_train_tfidf.toarray(), y_train.values, epochs=100, validation_split=0.4, callbacks=[early_stopping])"
   ]
  },
  {
   "cell_type": "code",
   "execution_count": null,
   "metadata": {},
   "outputs": [
    {
     "name": "stderr",
     "output_type": "stream",
     "text": [
      "WARNING:absl:You are saving your model as an HDF5 file via `model.save()` or `keras.saving.save_model(model)`. This file format is considered legacy. We recommend using instead the native Keras format, e.g. `model.save('my_model.keras')` or `keras.saving.save_model(model, 'my_model.keras')`. \n"
     ]
    }
   ],
   "source": [
    "#model.save('model.h5')  \n",
    "\n",
    "# To load the model later and resume training:\n",
    "#from tensorflow.keras.models import load_model\n",
    "#model = load_model('/kaggle/input/multiclass_seq/keras/default/1/model.h5')"
   ]
  },
  {
   "cell_type": "code",
   "execution_count": 146,
   "metadata": {},
   "outputs": [
    {
     "data": {
      "image/png": "[encoded data removed]",
      "text/plain": [
       "<Figure size 640x480 with 1 Axes>"
      ]
     },
     "metadata": {},
     "output_type": "display_data"
    },
    {
     "data": {
      "image/png": "[encoded data removed]",
      "text/plain": [
       "<Figure size 640x480 with 1 Axes>"
      ]
     },
     "metadata": {},
     "output_type": "display_data"
    }
   ],
   "source": [
    "plt.plot(history.history['accuracy'], label='Training Accuracy')\n",
    "plt.title('Training Accuracy')\n",
    "plt.xlabel('Epochs')\n",
    "plt.ylabel('Accuracy')\n",
    "plt.legend()\n",
    "plt.show()\n",
    "\n",
    "plt.plot(history.history['loss'], label='Training Loss')\n",
    "plt.title('Training Loss')\n",
    "plt.xlabel('Epochs')\n",
    "plt.ylabel('Loss')\n",
    "plt.legend()\n",
    "plt.show()"
   ]
  },
  {
   "cell_type": "code",
   "execution_count": 147,
   "metadata": {},
   "outputs": [
    {
     "name": "stdout",
     "output_type": "stream",
     "text": [
      "\u001b[1m2/2\u001b[0m \u001b[32m━━━━━━━━━━━━━━━━━━━━\u001b[0m\u001b[37m\u001b[0m \u001b[1m0s\u001b[0m 9ms/step - accuracy: 0.6451 - loss: 0.5830 \n",
      "Test Accuracy= 66.0%\n",
      "Test Loss= 0.58\n"
     ]
    }
   ],
   "source": [
    "test_loss, test_accuracy = model.evaluate(X_test_tfidf.toarray(), y_test.values)\n",
    "print(f'Test Accuracy= {round(test_accuracy,2)*100}%\\nTest Loss= {round(test_loss,2)}')"
   ]
  },
  {
   "cell_type": "code",
   "execution_count": null,
   "metadata": {},
   "outputs": [],
   "source": [
    "report = classification_report(np.array(y_test.tolist()[:-3]), test_pred.round())\n",
    "print(report)"
   ]
  },
  {
   "cell_type": "markdown",
   "metadata": {},
   "source": [
    "Predict on new data"
   ]
  },
  {
   "cell_type": "markdown",
   "metadata": {},
   "source": [
    "we try it on the validation data"
   ]
  },
  {
   "cell_type": "code",
   "execution_count": 148,
   "metadata": {},
   "outputs": [],
   "source": [
    "validation_data.head()\n",
    "vectorizer = TfidfVectorizer(max_features=3000)\n",
    "X_val = validation_data[['title', 'description', 'body']].apply(lambda row: ' '.join(row.values.astype(str)), axis=1)\n",
    "y_val = validation_data[['Fake News', 'Extreme bias', 'clickbait', 'credible']]"
   ]
  },
  {
   "cell_type": "code",
   "execution_count": 149,
   "metadata": {},
   "outputs": [
    {
     "data": {
      "text/plain": [
       "(25, 3000)"
      ]
     },
     "execution_count": 149,
     "metadata": {},
     "output_type": "execute_result"
    }
   ],
   "source": [
    "X_val_tfidf = vectorizer.fit_transform(X_val)\n",
    "#predictions = model.predict(X_val_tfidf.toarray())\n",
    "X_val_tfidf.shape"
   ]
  },
  {
   "cell_type": "code",
   "execution_count": null,
   "metadata": {},
   "outputs": [
    {
     "name": "stdout",
     "output_type": "stream",
     "text": [
      "\u001b[1m1/1\u001b[0m \u001b[32m━━━━━━━━━━━━━━━━━━━━\u001b[0m\u001b[37m\u001b[0m \u001b[1m0s\u001b[0m 34ms/step - accuracy: 0.5600 - loss: 0.5926\n",
      "Test Accuracy= 56.00000000000001%\n",
      "Test Loss= 0.59\n"
     ]
    }
   ],
   "source": [
    "test_loss, test_accuracy = model.evaluate(X_val_tfidf.toarray(), y_val.values)\n",
    "print(f'Validation Accuracy= {round(test_accuracy,2)*100}%\\Validation Loss= {round(test_loss,2)}')"
   ]
  },
  {
   "cell_type": "code",
   "execution_count": 151,
   "metadata": {},
   "outputs": [
    {
     "name": "stdout",
     "output_type": "stream",
     "text": [
      "\u001b[1m1/1\u001b[0m \u001b[32m━━━━━━━━━━━━━━━━━━━━\u001b[0m\u001b[37m\u001b[0m \u001b[1m0s\u001b[0m 56ms/step\n"
     ]
    },
    {
     "data": {
      "text/plain": [
       "array([[0.33016592, 0.38348728, 0.40419954, 0.5918561 ],\n",
       "       [0.36381283, 0.40998104, 0.41810188, 0.57535696],\n",
       "       [0.33832532, 0.38544694, 0.40362304, 0.58998823],\n",
       "       [0.34546077, 0.38869926, 0.41203144, 0.580623  ],\n",
       "       [0.34545577, 0.38967064, 0.4123943 , 0.58036685],\n",
       "       [0.31591856, 0.38393372, 0.39451742, 0.5964434 ],\n",
       "       [0.33738494, 0.38593218, 0.4022882 , 0.58689785],\n",
       "       [0.3480906 , 0.40051177, 0.41355732, 0.5816686 ],\n",
       "       [0.34684312, 0.39528194, 0.4137637 , 0.57893074],\n",
       "       [0.35407707, 0.3983281 , 0.41660017, 0.5767112 ],\n",
       "       [0.3403378 , 0.383361  , 0.40268523, 0.5916075 ],\n",
       "       [0.3463083 , 0.39287066, 0.41393873, 0.58537287],\n",
       "       [0.35961488, 0.39755547, 0.41686568, 0.579239  ],\n",
       "       [0.34846526, 0.4019861 , 0.40561908, 0.5792451 ],\n",
       "       [0.35059398, 0.39794457, 0.41397732, 0.57655305],\n",
       "       [0.3264092 , 0.38153824, 0.39066774, 0.5939834 ],\n",
       "       [0.34413975, 0.3974904 , 0.41215423, 0.58072627],\n",
       "       [0.32561928, 0.37754968, 0.3972804 , 0.5952612 ],\n",
       "       [0.3151999 , 0.37658006, 0.3860433 , 0.5989813 ],\n",
       "       [0.34100953, 0.38566735, 0.4033263 , 0.58911943],\n",
       "       [0.35149887, 0.39728028, 0.41124648, 0.5781571 ],\n",
       "       [0.34729615, 0.39573875, 0.40854424, 0.579252  ],\n",
       "       [0.34078145, 0.3992513 , 0.41277322, 0.5797197 ],\n",
       "       [0.3654935 , 0.4027182 , 0.42777917, 0.5757603 ],\n",
       "       [0.36299467, 0.40179345, 0.42333978, 0.5727234 ]], dtype=float32)"
      ]
     },
     "execution_count": 151,
     "metadata": {},
     "output_type": "execute_result"
    }
   ],
   "source": [
    "predictions = model.predict(X_val_tfidf.toarray())\n",
    "predictions"
   ]
  },
  {
   "cell_type": "markdown",
   "metadata": {},
   "source": [
    "This is a bit better than the other classical approaches"
   ]
  }
 ],
 "metadata": {
  "kernelspec": {
   "display_name": "Python 3",
   "language": "python",
   "name": "python3"
  },
  "language_info": {
   "codemirror_mode": {
    "name": "ipython",
    "version": 3
   },
   "file_extension": ".py",
   "mimetype": "text/x-python",
   "name": "python",
   "nbconvert_exporter": "python",
   "pygments_lexer": "ipython3",
   "version": "3.12.0"
  }
 },
 "nbformat": 4,
 "nbformat_minor": 2
}
